{
 "cells": [
  {
   "cell_type": "code",
   "execution_count": null,
   "metadata": {},
   "outputs": [],
   "source": [
    "import requests\n",
    "import json\n",
    "import time\n",
    "import matplotlib.pyplot as plt\n",
    "\n",
    "url = \"http://46.17.108.113:1026/v2/entities/urn:ngsi-ld:Transit:003/attrs/proximity\"\n",
    "\n",
    "headers = {\n",
    "  'fiware-service': 'smart',\n",
    "  'fiware-servicepath': '/',\n",
    "  'accept': 'application/json'\n",
    "}\n",
    "\n",
    "data_points = []\n",
    "duration = 10  # Duração da coleta de dados em segundos\n",
    "\n",
    "start_time = time.time()\n",
    "end_time = start_time + duration\n",
    "\n",
    "while time.time() < end_time:\n",
    "    response = requests.get(url, headers=headers)\n",
    "    data = json.loads(response.text)\n",
    "    \n",
    "    # Analise os dados da resposta e extraia as informações necessárias\n",
    "    # Suponhamos que os dados estejam em um formato JSON como: {\"value\": 42.0}\n",
    "    value = data.get(\"value\")\n",
    "    data_points.append(value)\n",
    "    \n",
    "    # Espere 1 segundo antes da próxima solicitação\n",
    "    time.sleep(1)\n",
    "\n",
    "# Crie um gráfico com os dados coletados\n",
    "plt.plot(data_points)\n",
    "plt.xlabel(\"Tempo (a cada 1 segundo)\")\n",
    "plt.ylabel(\"Valor de Proximidade\")\n",
    "plt.title(f\"Variação de Proximidade durante {duration} segundos\")\n",
    "plt.show()\n"
   ]
  }
 ],
 "metadata": {
  "language_info": {
   "name": "python"
  }
 },
 "nbformat": 4,
 "nbformat_minor": 2
}
